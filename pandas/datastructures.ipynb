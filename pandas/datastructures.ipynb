{
 "cells": [
  {
   "cell_type": "markdown",
   "metadata": {},
   "source": [
    "Series"
   ]
  },
  {
   "cell_type": "code",
   "execution_count": 3,
   "metadata": {},
   "outputs": [],
   "source": [
    "import pandas as pd"
   ]
  },
  {
   "cell_type": "markdown",
   "metadata": {},
   "source": [
    "### Series"
   ]
  },
  {
   "cell_type": "code",
   "execution_count": 7,
   "metadata": {},
   "outputs": [
    {
     "name": "stdout",
     "output_type": "stream",
     "text": [
      "a    45.0\n",
      "s    64.0\n",
      "d    32.0\n",
      "f    67.0\n",
      "g    23.0\n",
      "dtype: float64\n"
     ]
    }
   ],
   "source": [
    "x = [45, 64, 32, 67, 23]\n",
    "var = pd.Series(x,index= [\"a\",\"s\",\"d\", \"f\", \"g\"], dtype=float)\n",
    "print(var)\n"
   ]
  },
  {
   "cell_type": "code",
   "execution_count": 16,
   "metadata": {},
   "outputs": [
    {
     "name": "stdout",
     "output_type": "stream",
     "text": [
      "1    12\n",
      "2    12\n",
      "3    12\n",
      "4    12\n",
      "5    12\n",
      "6    12\n",
      "7    12\n",
      "dtype: int64\n",
      "1    12\n",
      "2    12\n",
      "3    12\n",
      "4    12\n",
      "dtype: int64\n",
      "1    24.0\n",
      "2    24.0\n",
      "3    24.0\n",
      "4    24.0\n",
      "5     NaN\n",
      "6     NaN\n",
      "7     NaN\n",
      "dtype: float64\n"
     ]
    }
   ],
   "source": [
    "var1 = pd.Series(12, index=[1, 2, 3, 4, 5, 6, 7])\n",
    "print(var1)\n",
    "\n",
    "var2 = pd.Series((12),index = [1, 2, 3, 4])\n",
    "print(var2)\n",
    "\n",
    "print(var1 + var2)"
   ]
  },
  {
   "cell_type": "markdown",
   "metadata": {},
   "source": [
    "Data Frames"
   ]
  },
  {
   "cell_type": "code",
   "execution_count": 12,
   "metadata": {},
   "outputs": [
    {
     "name": "stdout",
     "output_type": "stream",
     "text": [
      "    Name  Age  Salary\n",
      "0    Ali   23    2000\n",
      "1  Ahmed   43    3000\n",
      "2   Omar   12    4000\n",
      "3   Sara   34    5000\n",
      "4   Lina   21    6000\n"
     ]
    }
   ],
   "source": [
    "dic = {\"Name\": [\"Ali\", \"Ahmed\", \"Omar\", \"Sara\", \"Lina\"],\n",
    "       \"Age\": [23, 43, 12, 34, 21],\n",
    "       \"Salary\": [2000, 3000, 4000, 5000, 6000]}\n",
    "\n",
    "var1 = pd.DataFrame(dic)\n",
    "print(var1)"
   ]
  },
  {
   "cell_type": "code",
   "execution_count": 29,
   "metadata": {},
   "outputs": [
    {
     "name": "stdout",
     "output_type": "stream",
     "text": [
      "    a   b   c   d   e   f   g\n",
      "0   1   2   3   4   5   6   7\n",
      "1  12  13  14  15  16  17  18\n",
      "   a   b\n",
      "0  1  12\n",
      "1  2  13\n",
      "2  3  14\n",
      "3  4  15\n",
      "4  5  16\n",
      "5  6  17\n",
      "6  7  18\n"
     ]
    }
   ],
   "source": [
    "l = [[1, 2, 3, 4, 5, 6, 7], [12, 13, 14, 15, 16, 17, 18]]\n",
    "var2 = pd.DataFrame(l, columns=[\"a\", \"b\", \"c\", \"d\", \"e\", \"f\", \"g\"])\n",
    "\n",
    "d = {\"a\": [1,2,3,4,5,6,7], \"b\": [12,13,14,15,16,17,18]}\n",
    "print(var2)\n",
    "var3 = pd.DataFrame(d)\n",
    "\n",
    "print(var3)"
   ]
  },
  {
   "cell_type": "code",
   "execution_count": 4,
   "metadata": {},
   "outputs": [
    {
     "name": "stdout",
     "output_type": "stream",
     "text": [
      "   b  c\n",
      "0  1  1\n",
      "1  2  2\n",
      "2  3  3\n",
      "3  4  4\n",
      "4  5  5\n"
     ]
    }
   ],
   "source": [
    "d = {\"a\": [1, 2, 3, 4, 5], \"b\": [1, 2, 3, 4, 5], \"c\": [1, 2, 3, 4, 5], \"d\": [1, 2, 3, 4, 5]}\n",
    "var4 = pd.DataFrame(d, columns=[\"b\", \"c\"])\n",
    "print(var4)"
   ]
  },
  {
   "cell_type": "code",
   "execution_count": 11,
   "metadata": {},
   "outputs": [
    {
     "name": "stdout",
     "output_type": "stream",
     "text": [
      "   a   b  c  d\n",
      "0  1   1  1  1\n",
      "1  2   2  2  2\n",
      "2  3   3  3  3\n",
      "3  4  14  4  4\n",
      "4  5   5  5  5\n",
      "14\n"
     ]
    }
   ],
   "source": [
    "d = {\"a\": [1, 2, 3, 4, 5], \"b\": [1, 2, 3, 14, 5], \"c\": [1, 2, 3, 4, 5], \"d\": [1, 2, 3, 4, 5]}\n",
    "var5 = pd.DataFrame(d)\n",
    "print(var5)\n",
    "print(var5[\"b\"][3])"
   ]
  },
  {
   "cell_type": "code",
   "execution_count": 12,
   "metadata": {},
   "outputs": [
    {
     "name": "stdout",
     "output_type": "stream",
     "text": [
      "    0   1   2   3   4\n",
      "0   1   2   3   4   5\n",
      "1  12  13  14  15  16\n"
     ]
    }
   ],
   "source": [
    "list_1 = [[1, 2, 3, 4, 5], [12, 13, 14, 15, 16]]\n",
    "\n",
    "var6 = pd.DataFrame(list_1)\n",
    "print(var6)"
   ]
  },
  {
   "cell_type": "code",
   "execution_count": 13,
   "metadata": {},
   "outputs": [
    {
     "name": "stdout",
     "output_type": "stream",
     "text": [
      "   s   d\n",
      "0  1  12\n",
      "1  2  13\n",
      "2  3  14\n",
      "3  4  15\n",
      "4  5  16\n",
      "5  6  17\n",
      "6  7  18\n"
     ]
    }
   ],
   "source": [
    "sr = {\"s\": pd.Series([1, 2, 3, 4, 5, 6, 7]), \"d\": pd.Series([12, 13, 14, 15, 16, 17, 18])}\n",
    "var7 = pd.DataFrame(sr)\n",
    "print(var7)"
   ]
  },
  {
   "cell_type": "code",
   "execution_count": null,
   "metadata": {},
   "outputs": [],
   "source": []
  }
 ],
 "metadata": {
  "kernelspec": {
   "display_name": "Python 3",
   "language": "python",
   "name": "python3"
  },
  "language_info": {
   "codemirror_mode": {
    "name": "ipython",
    "version": 3
   },
   "file_extension": ".py",
   "mimetype": "text/x-python",
   "name": "python",
   "nbconvert_exporter": "python",
   "pygments_lexer": "ipython3",
   "version": "3.11.5"
  }
 },
 "nbformat": 4,
 "nbformat_minor": 2
}
