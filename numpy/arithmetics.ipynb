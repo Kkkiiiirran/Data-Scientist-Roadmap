{
 "cells": [
  {
   "cell_type": "code",
   "execution_count": 2,
   "metadata": {},
   "outputs": [],
   "source": [
    "import numpy as np"
   ]
  },
  {
   "cell_type": "markdown",
   "metadata": {},
   "source": [
    "add(a, b)"
   ]
  },
  {
   "cell_type": "code",
   "execution_count": 10,
   "metadata": {},
   "outputs": [
    {
     "name": "stdout",
     "output_type": "stream",
     "text": [
      "array --> [1 2 3 4 5]\n",
      "add_array --> [4 5 6 7 8]\n",
      "add_two_arrays --> [ 5  7  9 11 13]\n"
     ]
    }
   ],
   "source": [
    "var = np.array([1, 2, 3, 4, 5])\n",
    "varadd = var + 3\n",
    "varadd2 = var + varadd\n",
    "print(f\"array --> {var}\")\n",
    "print(f\"add_array --> {varadd}\")\n",
    "print(f\"add_two_arrays --> {varadd2}\")"
   ]
  },
  {
   "cell_type": "markdown",
   "metadata": {},
   "source": [
    "Subtract - subtract(a, b)"
   ]
  },
  {
   "cell_type": "code",
   "execution_count": 15,
   "metadata": {},
   "outputs": [
    {
     "name": "stdout",
     "output_type": "stream",
     "text": [
      "array --> [12 22 34 44 53]\n",
      "sub_array --> [10 20 32 42 51]\n",
      "sub_two_arrays --> [2 2 2 2 2]\n"
     ]
    }
   ],
   "source": [
    "var = np.array([12, 22, 34, 44,53])\n",
    "varsub = var - 2\n",
    "varsub2 = var - varsub\n",
    "\n",
    "print(f\"array --> {var}\")\n",
    "print(f\"sub_array --> {varsub}\")\n",
    "print(f\"sub_two_arrays --> {varsub2}\")"
   ]
  },
  {
   "cell_type": "code",
   "execution_count": 20,
   "metadata": {},
   "outputs": [
    {
     "name": "stdout",
     "output_type": "stream",
     "text": [
      "a --> [12 26 33 42 59]\n",
      "b --> [1 2 3 4 5]\n",
      "add --> [13 28 36 46 64]\n",
      "sub --> [11 24 30 38 54]\n",
      "multiply --> [ 12  52  99 168 295]\n",
      "divide --> [12.  13.  11.  10.5 11.8]\n",
      "exponent --> [  2.71828183   7.3890561   20.08553692  54.59815003 148.4131591 ]\n",
      "square_root --> [1.         1.41421356 1.73205081 2.         2.23606798]\n",
      "sin --> [-0.53657292  0.76255845  0.99991186 -0.91652155  0.63673801]\n",
      "cos --> [ 0.54030231 -0.41614684 -0.9899925  -0.65364362  0.28366219]\n",
      "log --> [2.48490665 3.25809654 3.49650756 3.73766962 4.07753744]\n",
      "dot_product --> 626\n"
     ]
    }
   ],
   "source": [
    "a = np.array([12, 26, 33, 42, 59])\n",
    "b = np.array([1, 2, 3, 4, 5])\n",
    "\n",
    "add = np.add(a, b)\n",
    "sub = np.subtract(a, b)\n",
    "multiply = np.multiply(a, b)\n",
    "divide = np.divide(a, b)\n",
    "exponent = np.exp(b)\n",
    "square_root= np.sqrt(b)\n",
    "sin = np.sin(a)\n",
    "cos = np.cos(b)\n",
    "log = np.log(a)\n",
    "dot_product = np.dot(a, b)\n",
    "\n",
    "print(f\"a --> {a}\")\n",
    "print(f\"b --> {b}\")\n",
    "print(f\"add --> {add}\")\n",
    "print(f\"sub --> {sub}\")\n",
    "print(f\"multiply --> {multiply}\")\n",
    "print(f\"divide --> {divide}\")\n",
    "print(f\"exponent --> {exponent}\")\n",
    "print(f\"square_root --> {square_root}\")\n",
    "print(f\"sin --> {sin}\")\n",
    "print(f\"cos --> {cos}\")\n",
    "print(f\"log --> {log}\")\n",
    "print(f\"dot_product --> {dot_product}\")\n",
    "\n"
   ]
  },
  {
   "cell_type": "code",
   "execution_count": 36,
   "metadata": {},
   "outputs": [
    {
     "name": "stdout",
     "output_type": "stream",
     "text": [
      "172\n",
      "12\n",
      "59\n",
      "[ 12  38  71 113 172]\n",
      "34.4\n",
      "1.0\n",
      "15.730225681788548\n"
     ]
    }
   ],
   "source": [
    "a = np.array([12, 26, 33, 42, 59])\n",
    "\n",
    "print(a.sum())\n",
    "print(a.min())\n",
    "print(a.max())\n",
    "print(a.cumsum())\n",
    "print(a.mean())\n",
    "print(np.corrcoef(a))\n",
    "print(a.std())\n",
    "\n"
   ]
  },
  {
   "cell_type": "markdown",
   "metadata": {},
   "source": [
    "Multiply - multiply(a, b)"
   ]
  },
  {
   "cell_type": "code",
   "execution_count": 8,
   "metadata": {},
   "outputs": [
    {
     "name": "stdout",
     "output_type": "stream",
     "text": [
      "[1 2 3 4 5]\n",
      "[1 2 3 4 5]\n",
      "[ 1  4  9 16 25]\n"
     ]
    }
   ],
   "source": [
    "var = np.array([1, 2, 3, 4, 5])\n",
    "print(var)\n",
    "var2 = np.array([1, 2, 3, 4, 5])\n",
    "print(var2)\n",
    "varmul = var * var2\n",
    "print(varmul)\n"
   ]
  },
  {
   "cell_type": "markdown",
   "metadata": {},
   "source": [
    "Divide - divide(a, b)"
   ]
  },
  {
   "cell_type": "code",
   "execution_count": 9,
   "metadata": {},
   "outputs": [
    {
     "name": "stdout",
     "output_type": "stream",
     "text": [
      "[1 2 3 4 5]\n",
      "[1 2 3 4 5]\n",
      "[1. 1. 1. 1. 1.]\n"
     ]
    }
   ],
   "source": [
    "var = np.array([1, 2, 3, 4, 5])\n",
    "print(var)\n",
    "var2 = np.array([1, 2, 3, 4, 5])\n",
    "print(var2)\n",
    "vardiv = var / var2\n",
    "print(vardiv)\n"
   ]
  },
  {
   "cell_type": "markdown",
   "metadata": {},
   "source": [
    "Power - power(a, b)"
   ]
  },
  {
   "cell_type": "code",
   "execution_count": 10,
   "metadata": {},
   "outputs": [
    {
     "name": "stdout",
     "output_type": "stream",
     "text": [
      "[1 2 3 4 5]\n",
      "[1 2 3 4 5]\n",
      "[   1    4   27  256 3125]\n"
     ]
    }
   ],
   "source": [
    "var = np.array([1, 2, 3, 4, 5])\n",
    "print(var)\n",
    "var2 = np.array([1, 2, 3, 4, 5])\n",
    "print(var2)\n",
    "varpow = var ** var2\n",
    "print(varpow)"
   ]
  },
  {
   "cell_type": "markdown",
   "metadata": {},
   "source": [
    "Modulo - mod(a, b)"
   ]
  },
  {
   "cell_type": "code",
   "execution_count": 11,
   "metadata": {},
   "outputs": [
    {
     "name": "stdout",
     "output_type": "stream",
     "text": [
      "[1 2 3 4 5]\n",
      "[1 2 3 4 5]\n",
      "[0 0 0 0 0]\n"
     ]
    }
   ],
   "source": [
    "var =   np.array([1, 2, 3, 4, 5])\n",
    "print(var)\n",
    "var2 = np.array([1, 2, 3, 4, 5])\n",
    "print(var2)\n",
    "varmod = var % var2\n",
    "print(varmod)"
   ]
  },
  {
   "cell_type": "markdown",
   "metadata": {},
   "source": [
    "Reciprocal - reciprocal(a, b)"
   ]
  },
  {
   "cell_type": "code",
   "execution_count": 13,
   "metadata": {},
   "outputs": [
    {
     "name": "stdout",
     "output_type": "stream",
     "text": [
      "[1 2 3 4 5]\n",
      "[1 2 3 4 5]\n",
      "[1.         0.5        0.33333333 0.25       0.2       ]\n"
     ]
    }
   ],
   "source": [
    "var = np.array([1, 2, 3, 4, 5])\n",
    "print(var)\n",
    "var2 = np.array([1, 2, 3, 4, 5])\n",
    "print(var2)\n",
    "# reciprocal\n",
    "varrec = 1 / var\n",
    "print(varrec)\n"
   ]
  },
  {
   "cell_type": "markdown",
   "metadata": {},
   "source": [
    "### 2D Array"
   ]
  },
  {
   "cell_type": "code",
   "execution_count": 16,
   "metadata": {},
   "outputs": [
    {
     "name": "stdout",
     "output_type": "stream",
     "text": [
      "[[ 1  2  3  4  5]\n",
      " [ 6  7  8  9 10]]\n",
      "[[ 1  2  3  4  5]\n",
      " [ 6  7  8  9 10]]\n",
      "[[ 2  4  6  8 10]\n",
      " [12 14 16 18 20]]\n"
     ]
    }
   ],
   "source": [
    "var = np.array([[1, 2, 3, 4, 5], [6, 7, 8, 9, 10]])\n",
    "var1 = np.array([[1, 2, 3, 4, 5], [6, 7, 8, 9, 10]])\n",
    "print(var)\n",
    "print(var1)\n",
    "varadd = np.add(var, var1)\n",
    "print(varadd)\n"
   ]
  },
  {
   "cell_type": "markdown",
   "metadata": {},
   "source": [
    "### More Arithmetic Functions"
   ]
  },
  {
   "cell_type": "markdown",
   "metadata": {},
   "source": [
    "Minimum and Maximum\n",
    "\n",
    "Argmin = index of the minimum\n",
    "Argmax = index of the maximum"
   ]
  },
  {
   "cell_type": "code",
   "execution_count": 24,
   "metadata": {},
   "outputs": [
    {
     "name": "stdout",
     "output_type": "stream",
     "text": [
      "1 0\n",
      "35 3\n"
     ]
    }
   ],
   "source": [
    "var = np.array([1, 2, 1, 35, 35,4, 5])\n",
    "print(np.min(var), np.argmin(var))\n",
    "print(np.max(var), np.argmax(var))"
   ]
  },
  {
   "cell_type": "code",
   "execution_count": 28,
   "metadata": {},
   "outputs": [
    {
     "name": "stdout",
     "output_type": "stream",
     "text": [
      "[1 1]\n"
     ]
    }
   ],
   "source": [
    "var1 = np.array([[1, 2, 3, 4], [5, 6, 7, 1]])\n",
    "print(np.min(var1, axis = 1)) # axis = 1 means row,    axis = 0 means column"
   ]
  },
  {
   "cell_type": "markdown",
   "metadata": {},
   "source": [
    "square root"
   ]
  },
  {
   "cell_type": "code",
   "execution_count": 29,
   "metadata": {},
   "outputs": [
    {
     "name": "stdout",
     "output_type": "stream",
     "text": [
      "[1. 2. 3. 4.]\n"
     ]
    }
   ],
   "source": [
    "var1 = [1, 4, 9, 16]\n",
    "print(np.sqrt(var1))"
   ]
  },
  {
   "cell_type": "markdown",
   "metadata": {},
   "source": [
    "sin and cos"
   ]
  },
  {
   "cell_type": "code",
   "execution_count": 32,
   "metadata": {},
   "outputs": [
    {
     "name": "stdout",
     "output_type": "stream",
     "text": [
      "[ 0.84147098  0.90929743  0.14112001 -0.7568025 ]\n",
      "[ 0.54030231 -0.41614684 -0.9899925  -0.65364362]\n"
     ]
    }
   ],
   "source": [
    "var1 = [1, 2, 3, 4]\n",
    "print(np.sin(var1))\n",
    "print(np.cos(var1))\n",
    "\n"
   ]
  },
  {
   "cell_type": "markdown",
   "metadata": {},
   "source": [
    "log"
   ]
  },
  {
   "cell_type": "code",
   "execution_count": 34,
   "metadata": {},
   "outputs": [
    {
     "name": "stdout",
     "output_type": "stream",
     "text": [
      "[0.         0.69314718 1.09861229 1.38629436]\n",
      "[0.        1.        1.5849625 2.       ]\n"
     ]
    }
   ],
   "source": [
    "var1 = [1, 2, 3, 4]\n",
    "print(np.log(var1)) # natural log\n",
    "print(np.log2(var1)) # log base 2\n"
   ]
  },
  {
   "cell_type": "markdown",
   "metadata": {},
   "source": [
    "cumsum\n"
   ]
  },
  {
   "cell_type": "code",
   "execution_count": 35,
   "metadata": {},
   "outputs": [
    {
     "name": "stdout",
     "output_type": "stream",
     "text": [
      "[ 1  3  6 10]\n"
     ]
    }
   ],
   "source": [
    "var1 = [1, 2, 3, 4] \n",
    "print(np.cumsum(var1)) # cumulative sum"
   ]
  },
  {
   "cell_type": "code",
   "execution_count": null,
   "metadata": {},
   "outputs": [],
   "source": []
  }
 ],
 "metadata": {
  "kernelspec": {
   "display_name": "Python 3",
   "language": "python",
   "name": "python3"
  },
  "language_info": {
   "codemirror_mode": {
    "name": "ipython",
    "version": 3
   },
   "file_extension": ".py",
   "mimetype": "text/x-python",
   "name": "python",
   "nbconvert_exporter": "python",
   "pygments_lexer": "ipython3",
   "version": "3.11.5"
  }
 },
 "nbformat": 4,
 "nbformat_minor": 2
}
